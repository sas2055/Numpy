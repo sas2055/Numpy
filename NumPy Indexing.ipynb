{
 "cells": [
  {
   "cell_type": "markdown",
   "id": "771d1658",
   "metadata": {},
   "source": [
    "### Questions on NumPy Indexing"
   ]
  },
  {
   "cell_type": "markdown",
   "id": "daee9bee",
   "metadata": {},
   "source": [
    "#### Que.1 Replace NumPy array elements that doesn’t satisfy the given condition"
   ]
  },
  {
   "cell_type": "code",
   "execution_count": 1,
   "id": "32896eeb",
   "metadata": {
    "scrolled": true
   },
   "outputs": [
    {
     "name": "stdout",
     "output_type": "stream",
     "text": [
      "array is: \n",
      " [75.42 42.48 60.32]\n",
      "\n",
      "Replace all elements of array which are greater than 50. to 15.50\n",
      "new array is: \n",
      " [15.5  42.48 15.5 ]\n"
     ]
    }
   ],
   "source": [
    "# 1D numpy array\n",
    "import numpy as np\n",
    "arr = np.array([75.42, 42.48, 60.32])\n",
    "print('array is: \\n', arr)\n",
    "print('\\nReplace all elements of array which are greater than 50. to 15.50')\n",
    "arr[arr > 50.] = 15.50\n",
    "print('new array is: \\n', arr)"
   ]
  },
  {
   "cell_type": "code",
   "execution_count": 2,
   "id": "f90df910",
   "metadata": {},
   "outputs": [
    {
     "name": "stdout",
     "output_type": "stream",
     "text": [
      "array is: \n",
      " [[75 42 60]\n",
      " [ 5 50 25]]\n",
      "\n",
      "Replace all elements of array which are greater than 40 to 15\n",
      "new array is: \n",
      " [[15 15 15]\n",
      " [ 5 15 25]]\n"
     ]
    }
   ],
   "source": [
    "# 2D numpy array\n",
    "import numpy as np\n",
    "arr = np.array([[75, 42, 60],\n",
    "              [5, 50, 25]])\n",
    "print('array is: \\n', arr)\n",
    "print('\\nReplace all elements of array which are greater than 40 to 15')\n",
    "arr[arr > 40] = 15\n",
    "print('new array is: \\n', arr)"
   ]
  },
  {
   "cell_type": "code",
   "execution_count": 3,
   "id": "dc70d270",
   "metadata": {},
   "outputs": [
    {
     "name": "stdout",
     "output_type": "stream",
     "text": [
      "array is: \n",
      " [[[ 5 42  0]\n",
      "  [12  5  8]]\n",
      "\n",
      " [[ 2  5 13]\n",
      "  [ 5 50  5]]\n",
      "\n",
      " [[ 5 16  8]\n",
      "  [12  5  9]]]\n",
      "\n",
      "Replace all elements of array which are less than 10 to 0\n",
      "new array is: \n",
      " [[[ 0 42  0]\n",
      "  [12  0  0]]\n",
      "\n",
      " [[ 0  0 13]\n",
      "  [ 0 50  0]]\n",
      "\n",
      " [[ 0 16  0]\n",
      "  [12  0  0]]]\n"
     ]
    }
   ],
   "source": [
    "# 3D numpy array\n",
    "import numpy as np\n",
    "arr = np.array([[[5, 42, 0], [12,5,8]],\n",
    "              [[2,5,13], [5, 50, 5]],\n",
    "              [[5,16,8], [12,5,9]]])\n",
    "print('array is: \\n', arr)\n",
    "print('\\nReplace all elements of array which are less than 10 to 0')\n",
    "arr[arr < 10] = 0\n",
    "print('new array is: \\n', arr)"
   ]
  },
  {
   "cell_type": "markdown",
   "id": "b5ebee73",
   "metadata": {},
   "source": [
    "#### Que.2 Return the indices of elements where the given condition is satisfied"
   ]
  },
  {
   "cell_type": "code",
   "execution_count": 4,
   "id": "dc5bed71",
   "metadata": {},
   "outputs": [
    {
     "data": {
      "text/plain": [
       "array([[1, 6],\n",
       "       [3, 4]])"
      ]
     },
     "execution_count": 4,
     "metadata": {},
     "output_type": "execute_result"
    }
   ],
   "source": [
    "import numpy as np\n",
    "np.where([[True, False], [True, True]],\n",
    "         [[1, 2], [3, 4]], [[5, 6], [7, 8]])"
   ]
  },
  {
   "cell_type": "code",
   "execution_count": 5,
   "id": "f017eed4",
   "metadata": {},
   "outputs": [
    {
     "name": "stdout",
     "output_type": "stream",
     "text": [
      "array is: \n",
      " [[1 2 3]\n",
      " [4 5 6]]\n",
      "\n",
      "Indices of elements < 4:\n",
      "(array([0, 0, 0], dtype=int64), array([0, 1, 2], dtype=int64))\n",
      "\n",
      "Elements which are < 4: \n",
      " [1 2 3]\n"
     ]
    }
   ],
   "source": [
    "import numpy as np\n",
    "a = np.array([[1, 2, 3], [4, 5, 6]])\n",
    "print('array is: \\n', a) \n",
    "print('\\nIndices of elements < 4:')  \n",
    "b = np.where(a<4)\n",
    "print(b) \n",
    "print('\\nElements which are < 4: \\n', a[b])"
   ]
  },
  {
   "cell_type": "markdown",
   "id": "033f9261",
   "metadata": {},
   "source": [
    "#### Que.3 How to get values of an NumPy array at certain index positions?"
   ]
  },
  {
   "cell_type": "code",
   "execution_count": 6,
   "id": "438cd7fb",
   "metadata": {},
   "outputs": [
    {
     "name": "stdout",
     "output_type": "stream",
     "text": [
      "Array 1: [11 10 22 30 33]\n",
      "\n",
      "Array 2: [ 1 15 60]\n",
      "\n",
      "Take 1 and 15 from Array 2 and put them in 1st and 5th position of Array 1\n",
      "\n",
      "Resultant Array: [ 1 10 22 30 15]\n"
     ]
    }
   ],
   "source": [
    "import numpy as np\n",
    "a1 = np.array([11, 10, 22, 30, 33])\n",
    "print('Array 1:', a1)\n",
    "a2 = np.array([1, 15, 60])\n",
    "print('\\nArray 2:', a2)\n",
    "print('\\nTake 1 and 15 from Array 2 and put them in 1st and 5th position of Array 1')\n",
    "a1.put([0, 4], a2) \n",
    "print('\\nResultant Array:', a1)"
   ]
  },
  {
   "cell_type": "markdown",
   "id": "7331e22c",
   "metadata": {},
   "source": [
    "#### Que.4 Replace negative value with zero in numpy array"
   ]
  },
  {
   "cell_type": "code",
   "execution_count": 7,
   "id": "df3f1616",
   "metadata": {},
   "outputs": [
    {
     "name": "stdout",
     "output_type": "stream",
     "text": [
      "initial array: [ 1  2 -3  4 -5 -6]\n",
      "New resulting array:  [1 2 0 4 0 0]\n"
     ]
    }
   ],
   "source": [
    "import numpy as np\n",
    "ar1 = np.array([1, 2, -3, 4, -5, -6])\n",
    "print('initial array:', ar1)\n",
    "ar1[ar1 < 0] = 0\n",
    "print('New resulting array: ', ar1)"
   ]
  },
  {
   "cell_type": "markdown",
   "id": "4e61950b",
   "metadata": {},
   "source": [
    "#### Que.5 Find indices of elements equal to zero in a NumPy array"
   ]
  },
  {
   "cell_type": "code",
   "execution_count": 8,
   "id": "e5b1bda8",
   "metadata": {},
   "outputs": [
    {
     "name": "stdout",
     "output_type": "stream",
     "text": [
      "Original array: \n",
      " [1 0 2 0 3 0 0 5 6 7 5 0 8]\n",
      "\n",
      "Indices of elements equal to zero: [ 1  3  5  6 11]\n"
     ]
    }
   ],
   "source": [
    "import numpy as np\n",
    "arr = np.array([1, 0, 2, 0, 3, 0, 0, 5,\n",
    "                    6, 7, 5, 0, 8])\n",
    "print('Original array: \\n',arr)\n",
    "res = np.where(arr == 0)[0]\n",
    "print('\\nIndices of elements equal to zero:', res)"
   ]
  },
  {
   "cell_type": "code",
   "execution_count": 9,
   "id": "72084a3d",
   "metadata": {},
   "outputs": [
    {
     "name": "stdout",
     "output_type": "stream",
     "text": [
      "Original array: \n",
      " [[0 2 3]\n",
      " [4 1 0]\n",
      " [0 0 2]]\n",
      "\n",
      "Indices of null elements:\n",
      " [[0 0]\n",
      " [1 2]\n",
      " [2 0]\n",
      " [2 1]]\n"
     ]
    }
   ],
   "source": [
    "import numpy as np\n",
    "arr = np.array([[0, 2, 3],\n",
    "                [4, 1, 0],\n",
    "                [0, 0, 2]])\n",
    "print('Original array: \\n', arr)\n",
    "res = np.argwhere(arr == 0)\n",
    "print('\\nIndices of null elements:\\n', res)"
   ]
  },
  {
   "cell_type": "code",
   "execution_count": 10,
   "id": "ec2295f7",
   "metadata": {},
   "outputs": [
    {
     "name": "stdout",
     "output_type": "stream",
     "text": [
      "Original array: \n",
      " [1 0 2 0 3 0 0 5 6 7 5 0 8]\n",
      "\n",
      "Indices of elements equal to zero: \n",
      " (array([ 1,  3,  5,  6, 11], dtype=int64),)\n"
     ]
    }
   ],
   "source": [
    "import numpy as np\n",
    "arr = np.array([1, 0, 2, 0, 3, 0, 0, 5,\n",
    "                    6, 7, 5, 0, 8])\n",
    "print('Original array: \\n',arr)\n",
    "res = np.nonzero(arr == 0)\n",
    "print('\\nIndices of elements equal to zero: \\n', res)"
   ]
  },
  {
   "cell_type": "markdown",
   "id": "acb88e0b",
   "metadata": {},
   "source": [
    "#### Que.6 How to Remove columns in Numpy array that contains non-numeric values?"
   ]
  },
  {
   "cell_type": "code",
   "execution_count": 12,
   "id": "7d22b64e",
   "metadata": {},
   "outputs": [
    {
     "name": "stdout",
     "output_type": "stream",
     "text": [
      "Given array: \n",
      " [[10.5 22.5  nan]\n",
      " [41.  52.5  nan]]\n",
      "\n",
      "Remove all columns containing non-numeric elements:\n",
      "[[10.5 22.5]\n",
      " [41.  52.5]]\n"
     ]
    }
   ],
   "source": [
    "import numpy as np\n",
    "arr = np.array([[10.5, 22.5, np.nan],\n",
    "                  [41, 52.5, np.nan]])\n",
    "  \n",
    "print('Given array: \\n', arr)\n",
    "print('\\nRemove all columns containing non-numeric elements:')\n",
    "print(arr[:, ~np.isnan(arr).any(axis=0)])"
   ]
  },
  {
   "cell_type": "markdown",
   "id": "a49dd80c",
   "metadata": {},
   "source": [
    "#### Que.7 How to access different rows of a multidimensional NumPy array?"
   ]
  },
  {
   "cell_type": "code",
   "execution_count": 13,
   "id": "74164abd",
   "metadata": {},
   "outputs": [
    {
     "name": "stdout",
     "output_type": "stream",
     "text": [
      "Given Array: \n",
      " [[10 20 30]\n",
      " [40  5 66]\n",
      " [70 88 94]]\n",
      "\n",
      "Accessed Rows: \n",
      " [[10 20 30]\n",
      " [70 88 94]]\n"
     ]
    }
   ],
   "source": [
    "import numpy as np\n",
    "arr = np.array([[10, 20, 30], \n",
    "                [40, 5, 66], \n",
    "                [70, 88, 94]])\n",
    "print('Given Array: \\n', arr)\n",
    "res = arr[[0,2]]\n",
    "print('\\nAccessed Rows: \\n', res)"
   ]
  },
  {
   "cell_type": "markdown",
   "id": "523f3c58",
   "metadata": {},
   "source": [
    "#### Que.8 Get row numbers of NumPy array having element larger than X"
   ]
  },
  {
   "cell_type": "code",
   "execution_count": 14,
   "id": "e4a98476",
   "metadata": {},
   "outputs": [
    {
     "name": "stdout",
     "output_type": "stream",
     "text": [
      "Given Array: \n",
      " [[ 1  2  3  4  5]\n",
      " [10 -3 30  4  5]\n",
      " [ 3  2  5 -4  5]\n",
      " [ 9  7  3  6  5]]\n",
      "\n",
      "Result: \n",
      " (array([1, 3], dtype=int64),)\n"
     ]
    }
   ],
   "source": [
    "import numpy as np\n",
    "arr = np.array([[1, 2, 3, 4, 5],\n",
    "                  [10, -3, 30, 4, 5],\n",
    "                  [3, 2, 5, -4, 5],\n",
    "                  [9, 7, 3, 6, 5]])\n",
    "X = 6\n",
    "print('Given Array: \\n', arr)\n",
    "out = np.where(np.any(arr > X, axis = 1))\n",
    "print('\\nResult: \\n', out)"
   ]
  },
  {
   "cell_type": "markdown",
   "id": "26b68485",
   "metadata": {},
   "source": [
    "#### Que.9 Get filled the diagonals of NumPy array"
   ]
  },
  {
   "cell_type": "code",
   "execution_count": 15,
   "id": "9b57bf2b",
   "metadata": {},
   "outputs": [
    {
     "name": "stdout",
     "output_type": "stream",
     "text": [
      "diagonal of array is: \n",
      " [[5 2]\n",
      " [2 5]]\n"
     ]
    }
   ],
   "source": [
    "import numpy as np\n",
    "arr = np.array([[1, 2], [2, 1]])\n",
    "np.fill_diagonal(arr, 5)  \n",
    "print('diagonal of array is: \\n', arr)"
   ]
  },
  {
   "cell_type": "code",
   "execution_count": 16,
   "id": "f557b1c9",
   "metadata": {},
   "outputs": [
    {
     "name": "stdout",
     "output_type": "stream",
     "text": [
      "diagonal of array is: \n",
      " [[1 0 0]\n",
      " [0 1 0]\n",
      " [0 0 1]]\n"
     ]
    }
   ],
   "source": [
    "import numpy as np\n",
    "arr = np.zeros((3, 3), int)\n",
    "np.fill_diagonal(arr, 1)\n",
    "print('diagonal of array is: \\n', arr)"
   ]
  },
  {
   "cell_type": "markdown",
   "id": "18a58597",
   "metadata": {},
   "source": [
    "#### Que.10 Check elements present in the NumPy array"
   ]
  },
  {
   "cell_type": "code",
   "execution_count": 17,
   "id": "df34ebc0",
   "metadata": {},
   "outputs": [
    {
     "name": "stdout",
     "output_type": "stream",
     "text": [
      "elements present in array: \n",
      " [ True False  True False  True]\n"
     ]
    }
   ],
   "source": [
    "import numpy as np\n",
    "a1 = np.array([1, 2, 3, 4, 5])\n",
    "lis = [1, 3, 5]\n",
    "a = np.isin(a1, lis) \n",
    "print('elements present in array: \\n', a)"
   ]
  },
  {
   "cell_type": "code",
   "execution_count": 18,
   "id": "60a0e3bc",
   "metadata": {},
   "outputs": [
    {
     "name": "stdout",
     "output_type": "stream",
     "text": [
      "elements present in array: \n",
      " [[ True  True]\n",
      " [False False]\n",
      " [ True  True]]\n"
     ]
    }
   ],
   "source": [
    "import numpy as np\n",
    "a1 = np.array([[1, 3], [5, 7], [9, 11]])\n",
    "lis = [1, 3, 11, 9]\n",
    "a = np.isin(a1, lis) \n",
    "print('elements present in array: \\n', a)"
   ]
  },
  {
   "cell_type": "markdown",
   "id": "0bd2d395",
   "metadata": {},
   "source": [
    "#### Que.11 Combined array index by index"
   ]
  },
  {
   "cell_type": "code",
   "execution_count": 19,
   "id": "fa871c81",
   "metadata": {},
   "outputs": [
    {
     "name": "stdout",
     "output_type": "stream",
     "text": [
      "Combined array: \n",
      " [[[1 4]\n",
      "  [2 5]\n",
      "  [3 6]]]\n"
     ]
    }
   ],
   "source": [
    "import numpy as np\n",
    "a1 = np.array([1, 2, 3])\n",
    "a2 = np.array([4, 5, 6])\n",
    "print('Combined array: \\n', np.dstack((a1, a2)))"
   ]
  },
  {
   "cell_type": "code",
   "execution_count": 20,
   "id": "12060b9c",
   "metadata": {},
   "outputs": [
    {
     "name": "stdout",
     "output_type": "stream",
     "text": [
      "Combined array: \n",
      " [[[10 41]]\n",
      "\n",
      " [[ 2 55]]\n",
      "\n",
      " [[13  6]]]\n"
     ]
    }
   ],
   "source": [
    "import numpy as np\n",
    "a1 = np.array([[10], [2], [13]])\n",
    "a2 = np.array([[41], [55], [6]])\n",
    "print('Combined array: \\n', np.dstack((a1, a2)))"
   ]
  }
 ],
 "metadata": {
  "kernelspec": {
   "display_name": "Python 3 (ipykernel)",
   "language": "python",
   "name": "python3"
  },
  "language_info": {
   "codemirror_mode": {
    "name": "ipython",
    "version": 3
   },
   "file_extension": ".py",
   "mimetype": "text/x-python",
   "name": "python",
   "nbconvert_exporter": "python",
   "pygments_lexer": "ipython3",
   "version": "3.9.12"
  }
 },
 "nbformat": 4,
 "nbformat_minor": 5
}
