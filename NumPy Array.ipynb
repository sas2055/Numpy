{
 "cells": [
  {
   "cell_type": "markdown",
   "id": "a1ef82d3",
   "metadata": {},
   "source": [
    "### Questions on NumPy Array\n"
   ]
  },
  {
   "cell_type": "markdown",
   "id": "3201a53d",
   "metadata": {},
   "source": [
    "#### Que.1 How to create an empty and a full NumPy array?"
   ]
  },
  {
   "cell_type": "code",
   "execution_count": 1,
   "id": "3f738d91",
   "metadata": {},
   "outputs": [
    {
     "name": "stdout",
     "output_type": "stream",
     "text": [
      "empty array:\n",
      "[[115   0  92   0]\n",
      " [ 99   0 104   0]\n",
      " [ 97   0 118   0]]\n",
      "\n",
      "full array:\n",
      "[['shiv' 'shiv' 'shiv']\n",
      " ['shiv' 'shiv' 'shiv']\n",
      " ['shiv' 'shiv' 'shiv']]\n"
     ]
    }
   ],
   "source": [
    "import numpy as np\n",
    "emp = np.empty((3,4), dtype='int8')\n",
    "print('empty array:')\n",
    "print(emp)\n",
    "\n",
    "ful = np.full([3,3], 'shiv')\n",
    "print('\\nfull array:')\n",
    "print(ful)"
   ]
  },
  {
   "cell_type": "markdown",
   "id": "d18d802a",
   "metadata": {},
   "source": [
    "#### Que.2 Create a Numpy array filled with all zeros"
   ]
  },
  {
   "cell_type": "code",
   "execution_count": 2,
   "id": "b4f7aee4",
   "metadata": {},
   "outputs": [
    {
     "name": "stdout",
     "output_type": "stream",
     "text": [
      "matrix of a: [0 0 0 0 0]\n",
      "\n",
      "matrix of b: \n",
      " [[0 0 0 0]\n",
      " [0 0 0 0]\n",
      " [0 0 0 0]\n",
      " [0 0 0 0]\n",
      " [0 0 0 0]]\n",
      "\n",
      "matrix of c: \n",
      " [[0. 0. 0. 0.]\n",
      " [0. 0. 0. 0.]\n",
      " [0. 0. 0. 0.]\n",
      " [0. 0. 0. 0.]\n",
      " [0. 0. 0. 0.]]\n",
      "\n",
      "matrix of d: \n",
      " [[0. 0. 0.]\n",
      " [0. 0. 0.]]\n"
     ]
    }
   ],
   "source": [
    "import numpy as np\n",
    "a = np.zeros(5, dtype='int8')\n",
    "print('matrix of a:', a)\n",
    "\n",
    "b = np.zeros((5, 4), dtype='int8')\n",
    "print('\\nmatrix of b: \\n', b)\n",
    "\n",
    "c = np.zeros((5, 4))\n",
    "print('\\nmatrix of c: \\n', c)\n",
    "\n",
    "d = np.zeros((2, 3), dtype=float)\n",
    "print('\\nmatrix of d: \\n', d)"
   ]
  },
  {
   "cell_type": "markdown",
   "id": "04f5683a",
   "metadata": {},
   "source": [
    "#### Que.3 Create a Numpy array filled with all ones"
   ]
  },
  {
   "cell_type": "code",
   "execution_count": 3,
   "id": "19a18d00",
   "metadata": {},
   "outputs": [
    {
     "name": "stdout",
     "output_type": "stream",
     "text": [
      "matrix of a: [1 1 1 1 1]\n",
      "\n",
      "matrix of b: \n",
      " [[1 1 1 1]\n",
      " [1 1 1 1]\n",
      " [1 1 1 1]\n",
      " [1 1 1 1]\n",
      " [1 1 1 1]]\n",
      "\n",
      "matrix of c: \n",
      " [[1. 1. 1. 1.]\n",
      " [1. 1. 1. 1.]\n",
      " [1. 1. 1. 1.]\n",
      " [1. 1. 1. 1.]\n",
      " [1. 1. 1. 1.]]\n",
      "\n",
      "matrix of d: \n",
      " [[1. 1. 1.]\n",
      " [1. 1. 1.]]\n"
     ]
    }
   ],
   "source": [
    "import numpy as np\n",
    "a = np.ones(5, dtype='int8')\n",
    "print('matrix of a:', a)\n",
    "\n",
    "b = np.ones((5, 4), dtype='int8')\n",
    "print('\\nmatrix of b: \\n', b)\n",
    "\n",
    "c = np.ones((5, 4))\n",
    "print('\\nmatrix of c: \\n', c)\n",
    "\n",
    "d = np.ones((2, 3), dtype=float)\n",
    "print('\\nmatrix of d: \\n', d)"
   ]
  },
  {
   "cell_type": "markdown",
   "id": "df54934b",
   "metadata": {},
   "source": [
    "#### Que.4 Check whether a Numpy array contains a specified row"
   ]
  },
  {
   "cell_type": "code",
   "execution_count": 4,
   "id": "c20aea20",
   "metadata": {},
   "outputs": [
    {
     "name": "stdout",
     "output_type": "stream",
     "text": [
      "array is: \n",
      " [[ 1  2  3  4  5]\n",
      " [ 6  7  8  9 10]\n",
      " [11 12 13 14 15]\n",
      " [16 17 18 19 20]]\n",
      "\n",
      "check for some lists are:\n",
      "True\n",
      "False\n",
      "False\n",
      "True\n"
     ]
    }
   ],
   "source": [
    "import numpy as np\n",
    "arr = np.array([[1, 2, 3, 4, 5],\n",
    "                   [6, 7, 8, 9, 10],\n",
    "                   [11, 12, 13, 14, 15],\n",
    "                   [16, 17, 18, 19, 20]])\n",
    "  \n",
    "print('array is: \\n', arr)\n",
    "print('\\ncheck for some lists are:')\n",
    "print([1, 2, 3, 4, 5] in arr.tolist())\n",
    "print([16, 17, 20, 19, 18] in arr.tolist())\n",
    "print([3, 2, 5, -4, 5] in arr.tolist())\n",
    "print([11, 12, 13, 14, 15] in arr.tolist())"
   ]
  },
  {
   "cell_type": "markdown",
   "id": "14d799d8",
   "metadata": {},
   "source": [
    "#### Que.5 How to Remove rows in Numpy array that contains non-numeric values?"
   ]
  },
  {
   "cell_type": "code",
   "execution_count": 5,
   "id": "25709670",
   "metadata": {},
   "outputs": [
    {
     "name": "stdout",
     "output_type": "stream",
     "text": [
      "array is: \n",
      " [[10.5 22.5  3.8]\n",
      " [41.   nan  nan]]\n",
      "\n",
      "Remove all rows containing non-numeric elements\n",
      "[[10.5 22.5  3.8]]\n"
     ]
    }
   ],
   "source": [
    "# 2x3 Numpy array\n",
    "import numpy as np\n",
    "arr = np.array([[10.5, 22.5, 3.8],\n",
    "                  [41, np.nan, np.nan]])\n",
    "print('array is: \\n', arr)  \n",
    "print('\\nRemove all rows containing non-numeric elements')\n",
    "print(arr[~np.isnan(arr).any(axis=1)])"
   ]
  },
  {
   "cell_type": "code",
   "execution_count": 6,
   "id": "08f0ce03",
   "metadata": {},
   "outputs": [
    {
     "name": "stdout",
     "output_type": "stream",
     "text": [
      "array is: \n",
      " [[10.5  22.5   3.8 ]\n",
      " [23.45 50.   78.7 ]\n",
      " [41.     nan   nan]]\n",
      "\n",
      "Remove all rows containing non-numeric elements\n",
      "[[10.5  22.5   3.8 ]\n",
      " [23.45 50.   78.7 ]]\n"
     ]
    }
   ],
   "source": [
    "import numpy as np\n",
    "arr = np.array([[10.5, 22.5, 3.8],\n",
    "                 [23.45, 50, 78.7],\n",
    "                 [41, np.nan, np.nan]])\n",
    "print('array is: \\n', arr)  \n",
    "print('\\nRemove all rows containing non-numeric elements')\n",
    "print(arr[~np.isnan(arr).any(axis=1)])"
   ]
  },
  {
   "cell_type": "markdown",
   "id": "d33de365",
   "metadata": {},
   "source": [
    "#### Que.6 Remove single-dimensional entries from the shape of an array"
   ]
  },
  {
   "cell_type": "code",
   "execution_count": 7,
   "id": "fd76cad8",
   "metadata": {},
   "outputs": [
    {
     "name": "stdout",
     "output_type": "stream",
     "text": [
      "Input array: \n",
      " [[[2 2 2]\n",
      "  [2 2 2]]]\n",
      "\n",
      "Shape of input array: (1, 2, 3)\n",
      "\n",
      "Output squeezed array: \n",
      " [[2 2 2]\n",
      " [2 2 2]]\n",
      "\n",
      "Shape of output array: (2, 3)\n"
     ]
    }
   ],
   "source": [
    "import numpy as np\n",
    "arr = np.array([[[2, 2, 2], [2, 2, 2]]])   \n",
    "print ('Input array: \\n', arr) \n",
    "print('\\nShape of input array:', arr.shape)    \n",
    "arr1 = np.squeeze(arr)   \n",
    "print ('\\nOutput squeezed array: \\n', arr1)\n",
    "print('\\nShape of output array:', arr1.shape) "
   ]
  },
  {
   "cell_type": "code",
   "execution_count": 8,
   "id": "82642425",
   "metadata": {},
   "outputs": [
    {
     "name": "stdout",
     "output_type": "stream",
     "text": [
      "Input array: \n",
      " [[[0 1 2]\n",
      "  [3 4 5]\n",
      "  [6 7 8]]]\n",
      "\n",
      "Shape of input array: (1, 3, 3)\n",
      "\n",
      "Output squeezed array: \n",
      " [[0 1 2]\n",
      " [3 4 5]\n",
      " [6 7 8]]\n",
      "\n",
      "Shape of output array: (3, 3)\n"
     ]
    }
   ],
   "source": [
    "import numpy as np\n",
    "arr = np.arange(9).reshape(1,3,3)   \n",
    "print ('Input array: \\n', arr) \n",
    "print('\\nShape of input array:', arr.shape) \n",
    "arr1 = np.squeeze(arr, axis=0)   \n",
    "print ('\\nOutput squeezed array: \\n', arr1)\n",
    "print('\\nShape of output array:', arr1.shape) "
   ]
  },
  {
   "cell_type": "markdown",
   "id": "fd40793a",
   "metadata": {},
   "source": [
    "#### Que.7 Find the number of occurrences of a sequence"
   ]
  },
  {
   "cell_type": "code",
   "execution_count": 9,
   "id": "270961c6",
   "metadata": {},
   "outputs": [
    {
     "name": "stdout",
     "output_type": "stream",
     "text": [
      "Input array: \n",
      " [[2 8 9 4]\n",
      " [9 4 9 4]\n",
      " [4 5 9 7]\n",
      " [2 9 4 3]]\n",
      "\n",
      "Number of occurence is: 4\n"
     ]
    }
   ],
   "source": [
    "import numpy\n",
    "arr = numpy.array([[2, 8, 9, 4], \n",
    "                   [9, 4, 9, 4],\n",
    "                   [4, 5, 9, 7],\n",
    "                   [2, 9, 4, 3]])\n",
    "print ('Input array: \\n', arr)\n",
    "out = repr(arr).count('9, 4')\n",
    "print ('\\nNumber of occurence is:', out) "
   ]
  },
  {
   "cell_type": "markdown",
   "id": "9c8e8e4d",
   "metadata": {},
   "source": [
    "#### Que.8 Find the most frequent value"
   ]
  },
  {
   "cell_type": "code",
   "execution_count": 10,
   "id": "1a19ba9f",
   "metadata": {},
   "outputs": [
    {
     "name": "stdout",
     "output_type": "stream",
     "text": [
      "Original array: \n",
      " [1 2 3 4 5 1 2 1 1 1]\n",
      "\n",
      "Most frequent value in the above array: 1\n"
     ]
    }
   ],
   "source": [
    "import numpy as np\n",
    "x = np.array([1,2,3,4,5,1,2,1,1,1])\n",
    "print('Original array: \\n', x)\n",
    "y = np.bincount(x).argmax()\n",
    "print('\\nMost frequent value in the above array:', y)"
   ]
  },
  {
   "cell_type": "code",
   "execution_count": 11,
   "id": "8d4c9ec1",
   "metadata": {
    "scrolled": true
   },
   "outputs": [
    {
     "name": "stdout",
     "output_type": "stream",
     "text": [
      "Original array: \n",
      " [1 1 1 2 3 4 2 4 3 3]\n",
      "\n",
      "Most frequent value in above array\n",
      "1, 3, "
     ]
    }
   ],
   "source": [
    "import numpy as np  \n",
    "x = np.array([1, 1, 1, 2, 3, 4, 2, 4, 3, 3, ])\n",
    "print('Original array: \\n', x)\n",
    "print('\\nMost frequent value in above array')\n",
    "y = np.bincount(x)\n",
    "maximum = max(y)\n",
    "for i in range(len(y)):\n",
    "    if y[i] == maximum:\n",
    "        print(i, end=', ')"
   ]
  },
  {
   "cell_type": "markdown",
   "id": "2ccbb592",
   "metadata": {},
   "source": [
    "#### Que.9 Combining a one and a two-dimensional NumPy Array"
   ]
  },
  {
   "cell_type": "code",
   "execution_count": 12,
   "id": "e265c557",
   "metadata": {},
   "outputs": [
    {
     "name": "stdout",
     "output_type": "stream",
     "text": [
      "One dimensional array: [0 1 2 3 4]\n",
      "\n",
      "Two dimensional array: \n",
      " [[0 1 2 3 4]\n",
      " [5 6 7 8 9]]\n",
      "\n",
      "0:0\n",
      "\n",
      "1:1\n",
      "\n",
      "2:2\n",
      "\n",
      "3:3\n",
      "\n",
      "4:4\n",
      "\n",
      "0:5\n",
      "\n",
      "1:6\n",
      "\n",
      "2:7\n",
      "\n",
      "3:8\n",
      "\n",
      "4:9\n"
     ]
    }
   ],
   "source": [
    "import numpy as np\n",
    "arr_1d = np.arange(5)\n",
    "print('One dimensional array:', arr_1d)\n",
    "arr_2d = np.arange(10).reshape(2,5)\n",
    "print('\\nTwo dimensional array: \\n', arr_2d)\n",
    "for a, b in np.nditer([arr_1d, arr_2d]):\n",
    "    print('\\n%d:%d' % (a, b))"
   ]
  },
  {
   "cell_type": "markdown",
   "id": "ea5a9de6",
   "metadata": {},
   "source": [
    "#### Que.10 How to build an array of all combinations of two NumPy arrays?"
   ]
  },
  {
   "cell_type": "code",
   "execution_count": 13,
   "id": "57a7125c",
   "metadata": {},
   "outputs": [
    {
     "name": "stdout",
     "output_type": "stream",
     "text": [
      "Array 1: [1 2]\n",
      "\n",
      "Array 2: [4 6]\n",
      "\n",
      "Combine element array: \n",
      " [[1 4]\n",
      " [1 6]\n",
      " [2 4]\n",
      " [2 6]]\n"
     ]
    }
   ],
   "source": [
    "import numpy as np\n",
    "arr_1 = np.array([1, 2])\n",
    "arr_2 = np.array([4, 6])\n",
    "print('Array 1:', arr_1)  \n",
    "print('\\nArray 2:', arr_2)\n",
    "comb_array = np.array(np.meshgrid(arr_1, arr_2)).T.reshape(-1, 2)\n",
    "print('\\nCombine element array: \\n', comb_array)"
   ]
  },
  {
   "cell_type": "markdown",
   "id": "9ab718ef",
   "metadata": {},
   "source": [
    "#### Que.11 How to add a border around a NumPy array?"
   ]
  },
  {
   "cell_type": "code",
   "execution_count": 14,
   "id": "c6c5a6f5",
   "metadata": {},
   "outputs": [
    {
     "name": "stdout",
     "output_type": "stream",
     "text": [
      "Original array: \n",
      " [[1. 1.]\n",
      " [1. 1.]]\n",
      "\n",
      "0 on the border and 1 inside the array\n",
      "[[0. 0. 0. 0.]\n",
      " [0. 1. 1. 0.]\n",
      " [0. 1. 1. 0.]\n",
      " [0. 0. 0. 0.]]\n"
     ]
    }
   ],
   "source": [
    "import numpy as np\n",
    "a = np.ones((2, 2))  \n",
    "print('Original array: \\n', a)\n",
    "print('\\n0 on the border and 1 inside the array')\n",
    "a = np.pad(a, pad_width=1, mode='constant',\n",
    "               constant_values=0)\n",
    "  \n",
    "print(a)"
   ]
  },
  {
   "cell_type": "markdown",
   "id": "3a3310bb",
   "metadata": {},
   "source": [
    "#### Que.12 How to compare two NumPy arrays?"
   ]
  },
  {
   "cell_type": "code",
   "execution_count": 15,
   "id": "4ca1ce0f",
   "metadata": {},
   "outputs": [
    {
     "name": "stdout",
     "output_type": "stream",
     "text": [
      "compare two array is True\n"
     ]
    }
   ],
   "source": [
    "import numpy as np\n",
    "a = np.array([[1, 2], [3, 4]])\n",
    "b = np.array([[1, 2], [3, 4]])\n",
    "c = a == b\n",
    "d = c.all() \n",
    "print('compare two array is', d)"
   ]
  },
  {
   "cell_type": "code",
   "execution_count": 16,
   "id": "62498873",
   "metadata": {},
   "outputs": [
    {
     "name": "stdout",
     "output_type": "stream",
     "text": [
      "Two array are Equal\n"
     ]
    }
   ],
   "source": [
    "import numpy as np\n",
    "a1 = np.array([[1, 2], [3, 4]])\n",
    "a2 = np.array([[1, 2], [3, 4]])\n",
    "if np.array_equal(a1, a2):\n",
    "    print('Two array are Equal')\n",
    "else:\n",
    "    print('Two array are Not Equal')"
   ]
  },
  {
   "cell_type": "markdown",
   "id": "e2181e67",
   "metadata": {},
   "source": [
    "#### Que.13 How to check whether specified values are present in NumPy array?"
   ]
  },
  {
   "cell_type": "code",
   "execution_count": 17,
   "id": "96c913e7",
   "metadata": {},
   "outputs": [
    {
     "name": "stdout",
     "output_type": "stream",
     "text": [
      "Given array: \n",
      " [[2 3 0]\n",
      " [4 1 6]]\n",
      "True\n",
      "True\n",
      "False\n",
      "False\n"
     ]
    }
   ],
   "source": [
    "import numpy as np\n",
    "a = np.array([[2, 3, 0],\n",
    "             [4, 1, 6]])\n",
    "print('Given array: \\n', a)\n",
    "print(2 in a)\n",
    "print(0 in a)\n",
    "print(50 in a)\n",
    "print(10 in a)"
   ]
  },
  {
   "cell_type": "markdown",
   "id": "ddd3fdce",
   "metadata": {},
   "source": [
    "#### Que.14 How to get all 2D diagonals of a 3D NumPy array?"
   ]
  },
  {
   "cell_type": "code",
   "execution_count": 18,
   "id": "32f0f990",
   "metadata": {},
   "outputs": [
    {
     "name": "stdout",
     "output_type": "stream",
     "text": [
      "Original 3d array: \n",
      " [[[ 0  1]\n",
      "  [ 2  3]]\n",
      "\n",
      " [[ 4  5]\n",
      "  [ 6  7]]\n",
      "\n",
      " [[ 8  9]\n",
      "  [10 11]]]\n",
      "2d diagonal array: \n",
      " [[ 0  3]\n",
      " [ 4  7]\n",
      " [ 8 11]]\n"
     ]
    }
   ],
   "source": [
    "import numpy as np\n",
    "arr = np.arange(3 * 2 * 2).reshape(3, 2, 2)\n",
    "print('Original 3d array: \\n', arr)  \n",
    "diag_arr = np.diagonal(arr, axis1 = 1,\n",
    "                       axis2 = 2)\n",
    "print('2d diagonal array: \\n', diag_arr)"
   ]
  },
  {
   "cell_type": "markdown",
   "id": "e0dc383f",
   "metadata": {},
   "source": [
    "#### Que.15 Flatten a Matrix"
   ]
  },
  {
   "cell_type": "code",
   "execution_count": 19,
   "id": "c952369d",
   "metadata": {},
   "outputs": [
    {
     "name": "stdout",
     "output_type": "stream",
     "text": [
      "flatten a matrix: [2 3 4 5]\n"
     ]
    }
   ],
   "source": [
    "import numpy as np\n",
    "a = np.array([[2, 3], [4, 5]])\n",
    "f = a.flatten()\n",
    "print('flatten a matrix:', f)"
   ]
  },
  {
   "cell_type": "code",
   "execution_count": 20,
   "id": "e3e9b5ec",
   "metadata": {},
   "outputs": [
    {
     "name": "stdout",
     "output_type": "stream",
     "text": [
      "flatten a matrix: \n",
      " [ 6  9 12  8  5  2 18 21 24]\n"
     ]
    }
   ],
   "source": [
    "import numpy as np\n",
    "a = np.array([[6, 9, 12], [8, 5, 2], [18, 21, 24]])\n",
    "f = a.flatten(order='A')\n",
    "print('flatten a matrix: \\n', f)"
   ]
  },
  {
   "cell_type": "markdown",
   "id": "aefa3a2d",
   "metadata": {},
   "source": [
    "#### Que.16 Flatten a 2d numpy array into 1d array"
   ]
  },
  {
   "cell_type": "code",
   "execution_count": 21,
   "id": "24fe8381",
   "metadata": {},
   "outputs": [
    {
     "name": "stdout",
     "output_type": "stream",
     "text": [
      "initial array:  \n",
      " [[1 2 3]\n",
      " [2 4 5]\n",
      " [1 2 3]]\n",
      "\n",
      "New resulting array: \n",
      " [1 2 3 2 4 5 1 2 3]\n"
     ]
    }
   ],
   "source": [
    "import numpy as np\n",
    "arr = np.array([[1, 2, 3], [2, 4, 5], [1, 2, 3]])\n",
    "print('initial array:  \\n', arr)\n",
    "res = arr.flatten()\n",
    "print('\\nNew resulting array: \\n', res)"
   ]
  },
  {
   "cell_type": "code",
   "execution_count": 22,
   "id": "8006b7dd",
   "metadata": {},
   "outputs": [
    {
     "name": "stdout",
     "output_type": "stream",
     "text": [
      "initial array:  \n",
      " [[1 2 3]\n",
      " [2 4 5]\n",
      " [1 2 3]]\n",
      "\n",
      "New resulting array: \n",
      " [1 2 3 2 4 5 1 2 3]\n"
     ]
    }
   ],
   "source": [
    "import numpy as np\n",
    "arr = np.array([[1, 2, 3], [2, 4, 5], [1, 2, 3]])\n",
    "print('initial array:  \\n', arr)\n",
    "res = arr.ravel()\n",
    "print('\\nNew resulting array: \\n', res)"
   ]
  },
  {
   "cell_type": "code",
   "execution_count": 23,
   "id": "2d4f4c41",
   "metadata": {},
   "outputs": [
    {
     "name": "stdout",
     "output_type": "stream",
     "text": [
      "initial array:  \n",
      " [[1 2 3]\n",
      " [2 4 5]\n",
      " [1 2 3]]\n",
      "\n",
      "New resulting array: \n",
      " [[1 2 3 2 4 5 1 2 3]]\n"
     ]
    }
   ],
   "source": [
    "import numpy as np\n",
    "arr = np.array([[1, 2, 3], [2, 4, 5], [1, 2, 3]])\n",
    "print('initial array:  \\n', arr)\n",
    "res = arr.reshape(1, 9)\n",
    "print('\\nNew resulting array: \\n', res)"
   ]
  },
  {
   "cell_type": "markdown",
   "id": "be0c3849",
   "metadata": {},
   "source": [
    "#### Que.17 Move axes of an array to new positions"
   ]
  },
  {
   "cell_type": "code",
   "execution_count": 24,
   "id": "61c8d926",
   "metadata": {},
   "outputs": [
    {
     "name": "stdout",
     "output_type": "stream",
     "text": [
      "array to new positions: (2, 3, 4, 1)\n"
     ]
    }
   ],
   "source": [
    "import numpy as np \n",
    "arr = np.zeros((1, 2, 3, 4))\n",
    "res = np.moveaxis(arr, 0, -1).shape \n",
    "print('array to new positions:', res)"
   ]
  },
  {
   "cell_type": "code",
   "execution_count": 25,
   "id": "ddec7566",
   "metadata": {},
   "outputs": [
    {
     "name": "stdout",
     "output_type": "stream",
     "text": [
      "array to new positions: (4, 1, 2, 3)\n"
     ]
    }
   ],
   "source": [
    "import numpy as np \n",
    "arr = np.zeros((1, 2, 3, 4))\n",
    "res = np.moveaxis(arr, -1, 0).shape \n",
    "print('array to new positions:', res)"
   ]
  },
  {
   "cell_type": "markdown",
   "id": "51584998",
   "metadata": {},
   "source": [
    "#### Que.18 Interchange two axes of an array"
   ]
  },
  {
   "cell_type": "code",
   "execution_count": 26,
   "id": "32f06b1e",
   "metadata": {
    "scrolled": true
   },
   "outputs": [
    {
     "name": "stdout",
     "output_type": "stream",
     "text": [
      "array interchange two axes: \n",
      " [[2]\n",
      " [3]\n",
      " [4]]\n"
     ]
    }
   ],
   "source": [
    "import numpy as np \n",
    "arr = np.array([[2, 3, 4]])\n",
    "res = np.swapaxes(arr, 0, 1) \n",
    "print('array interchange two axes: \\n', res)"
   ]
  },
  {
   "cell_type": "code",
   "execution_count": 27,
   "id": "3f9c51cb",
   "metadata": {},
   "outputs": [
    {
     "name": "stdout",
     "output_type": "stream",
     "text": [
      "array interchange two axes: \n",
      " [[[0 4]\n",
      "  [2 6]]\n",
      "\n",
      " [[1 5]\n",
      "  [3 7]]]\n"
     ]
    }
   ],
   "source": [
    "import numpy as np \n",
    "arr = np.array([[[0, 1], [2, 3]], [[4, 5], [6, 7]]])\n",
    "res = np.swapaxes(arr, 0, 2) \n",
    "print('array interchange two axes: \\n', res)"
   ]
  },
  {
   "cell_type": "markdown",
   "id": "3e504343",
   "metadata": {},
   "source": [
    "#### Que.19 Counts the number of non-zero values in the array"
   ]
  },
  {
   "cell_type": "code",
   "execution_count": 28,
   "id": "8bfc814f",
   "metadata": {},
   "outputs": [
    {
     "name": "stdout",
     "output_type": "stream",
     "text": [
      "Count of non-zero values: 6\n"
     ]
    }
   ],
   "source": [
    "import numpy as np \n",
    "arr = [[0, 1, 2, 3, 0], [0, 5, 6, 0, 7]]\n",
    "res = np.count_nonzero(arr)  \n",
    "print('Count of non-zero values:', res) "
   ]
  },
  {
   "cell_type": "code",
   "execution_count": 29,
   "id": "910bebc4",
   "metadata": {},
   "outputs": [
    {
     "name": "stdout",
     "output_type": "stream",
     "text": [
      "Count of non-zero values: [3 3]\n"
     ]
    }
   ],
   "source": [
    "import numpy as np \n",
    "arr = [[0, 1, 2, 3, 0], [0, 5, 6, 0, 7]]\n",
    "res = np.count_nonzero(arr, axis=1)  \n",
    "print('Count of non-zero values:', res) "
   ]
  },
  {
   "cell_type": "markdown",
   "id": "cf4d17cb",
   "metadata": {},
   "source": [
    "#### Que.20 Count the number of elements along a given axis"
   ]
  },
  {
   "cell_type": "code",
   "execution_count": 30,
   "id": "35883a12",
   "metadata": {
    "scrolled": true
   },
   "outputs": [
    {
     "name": "stdout",
     "output_type": "stream",
     "text": [
      "No. of element is: 8\n"
     ]
    }
   ],
   "source": [
    "import numpy as np \n",
    "arr = np.array([[1, 2, 3, 4], [5, 6, 7, 8]])\n",
    "print('No. of element is:', np.size(arr))"
   ]
  },
  {
   "cell_type": "code",
   "execution_count": 31,
   "id": "973a7d27",
   "metadata": {},
   "outputs": [
    {
     "name": "stdout",
     "output_type": "stream",
     "text": [
      "No. of element axis 0: 2\n",
      "No. of element axis 1: 4\n"
     ]
    }
   ],
   "source": [
    "import numpy as np \n",
    "arr = np.array([[1, 2, 3, 4], [5, 6, 7, 8]])\n",
    "print('No. of element axis 0:', np.size(arr, 0))\n",
    "print('No. of element axis 1:', np.size(arr, 1))"
   ]
  },
  {
   "cell_type": "markdown",
   "id": "88e99c50",
   "metadata": {},
   "source": [
    "#### Que.21 Change data type of given numpy array"
   ]
  },
  {
   "cell_type": "code",
   "execution_count": 32,
   "id": "d4661b3f",
   "metadata": {},
   "outputs": [
    {
     "name": "stdout",
     "output_type": "stream",
     "text": [
      "array is: [10 20 30 40 50]\n",
      "\n",
      "array data type is: int32\n",
      "\n",
      "Changing array is: \n",
      " [10. 20. 30. 40. 50.]\n",
      "\n",
      "Changing array data type is: float64\n"
     ]
    }
   ],
   "source": [
    "import numpy as np\n",
    "arr = np.array([10, 20, 30, 40, 50])\n",
    "print('array is:', arr)\n",
    "print('\\narray data type is:', arr.dtype)\n",
    "arr = arr.astype('float64')\n",
    "print('\\nChanging array is: \\n', arr)\n",
    "print('\\nChanging array data type is:', arr.dtype)"
   ]
  },
  {
   "cell_type": "code",
   "execution_count": 33,
   "id": "a474d2f1",
   "metadata": {},
   "outputs": [
    {
     "name": "stdout",
     "output_type": "stream",
     "text": [
      "array is: [10 20 30 40 50]\n",
      "\n",
      "array data type is: int32\n",
      "\n",
      "Changing array is: \n",
      " [10.+0.j 20.+0.j 30.+0.j 40.+0.j 50.+0.j]\n",
      "\n",
      "Changing array data type is: complex64\n"
     ]
    }
   ],
   "source": [
    "import numpy as np\n",
    "arr = np.array([10, 20, 30, 40, 50])\n",
    "print('array is:', arr)\n",
    "print('\\narray data type is:', arr.dtype)\n",
    "arr = arr.astype('complex64')\n",
    "print('\\nChanging array is: \\n', arr)\n",
    "print('\\nChanging array data type is:', arr.dtype)"
   ]
  },
  {
   "cell_type": "markdown",
   "id": "ae2bc7d9",
   "metadata": {},
   "source": [
    "#### Que.22 Reverse a numpy array"
   ]
  },
  {
   "cell_type": "code",
   "execution_count": 34,
   "id": "f77cfc02",
   "metadata": {},
   "outputs": [
    {
     "name": "stdout",
     "output_type": "stream",
     "text": [
      "reverse array: [5 4 6 3 2 1]\n"
     ]
    }
   ],
   "source": [
    "import numpy as np\n",
    "arr = np.array([1, 2, 3, 6, 4, 5])\n",
    "res = np.flip(arr)\n",
    "print('reverse array:', res)"
   ]
  },
  {
   "cell_type": "code",
   "execution_count": 35,
   "id": "c12c26ab",
   "metadata": {},
   "outputs": [
    {
     "name": "stdout",
     "output_type": "stream",
     "text": [
      "reverse array: [5 4 6 3 2 1]\n"
     ]
    }
   ],
   "source": [
    "import numpy as np\n",
    "arr = np.array([1, 2, 3, 6, 4, 5])\n",
    "res = arr[::-1]\n",
    "print('reverse array:', res)"
   ]
  },
  {
   "cell_type": "code",
   "execution_count": 36,
   "id": "a05e383c",
   "metadata": {},
   "outputs": [
    {
     "name": "stdout",
     "output_type": "stream",
     "text": [
      "reverse array: [5 4 6 3 2 1]\n"
     ]
    }
   ],
   "source": [
    "import numpy as np\n",
    "arr = np.array([1, 2, 3, 6, 4, 5])\n",
    "res = np.flipud(arr)\n",
    "print('reverse array:', res)"
   ]
  },
  {
   "cell_type": "markdown",
   "id": "e67f296a",
   "metadata": {},
   "source": [
    "#### Que.23 How to make a NumPy array read-only?"
   ]
  },
  {
   "cell_type": "code",
   "execution_count": 37,
   "id": "1a8d29ad",
   "metadata": {},
   "outputs": [
    {
     "name": "stdout",
     "output_type": "stream",
     "text": [
      "Before any change: \n",
      " [0. 0. 0. 0. 0. 0. 0. 0. 0. 0. 0.]\n",
      "\n",
      "Before after first change: \n",
      " [0. 2. 0. 0. 0. 0. 0. 0. 0. 0. 0.]\n",
      "\n",
      "After making array immutable on attempting  second change:\n"
     ]
    },
    {
     "ename": "ValueError",
     "evalue": "assignment destination is read-only",
     "output_type": "error",
     "traceback": [
      "\u001b[1;31m---------------------------------------------------------------------------\u001b[0m",
      "\u001b[1;31mValueError\u001b[0m                                Traceback (most recent call last)",
      "Input \u001b[1;32mIn [37]\u001b[0m, in \u001b[0;36m<cell line: 8>\u001b[1;34m()\u001b[0m\n\u001b[0;32m      6\u001b[0m a\u001b[38;5;241m.\u001b[39msetflags(write\u001b[38;5;241m=\u001b[39m\u001b[38;5;28;01mFalse\u001b[39;00m)\n\u001b[0;32m      7\u001b[0m \u001b[38;5;28mprint\u001b[39m(\u001b[38;5;124m'\u001b[39m\u001b[38;5;130;01m\\n\u001b[39;00m\u001b[38;5;124mAfter making array immutable on attempting  second change:\u001b[39m\u001b[38;5;124m'\u001b[39m)\n\u001b[1;32m----> 8\u001b[0m a[\u001b[38;5;241m1\u001b[39m] \u001b[38;5;241m=\u001b[39m \u001b[38;5;241m7\u001b[39m\n",
      "\u001b[1;31mValueError\u001b[0m: assignment destination is read-only"
     ]
    }
   ],
   "source": [
    "import numpy as np \n",
    "a = np.zeros(11)\n",
    "print('Before any change: \\n', a) \n",
    "a[1] = 2\n",
    "print('\\nBefore after first change: \\n', a)\n",
    "a.setflags(write=False)\n",
    "print('\\nAfter making array immutable on attempting  second change:')\n",
    "a[1] = 7"
   ]
  },
  {
   "cell_type": "markdown",
   "id": "b8d7c886",
   "metadata": {},
   "source": [
    "#### Que.24. Trim the leading and/or trailing zeros from a 1-D array"
   ]
  },
  {
   "cell_type": "code",
   "execution_count": 38,
   "id": "746ec0de",
   "metadata": {},
   "outputs": [
    {
     "name": "stdout",
     "output_type": "stream",
     "text": [
      "array is: [ 1  5  7  0  6  2  9  0 10]\n"
     ]
    }
   ],
   "source": [
    "import numpy as np \n",
    "arr = np.array((0, 0, 0, 0, 1, 5, 7, 0, 6, 2, 9, 0, 10, 0, 0))\n",
    "res = np.trim_zeros(arr)\n",
    "print('array is:', res)"
   ]
  },
  {
   "cell_type": "code",
   "execution_count": 39,
   "id": "942052c9",
   "metadata": {},
   "outputs": [
    {
     "name": "stdout",
     "output_type": "stream",
     "text": [
      "array is: [ 1  5  7  0  6  2  9  0 10  0  0]\n"
     ]
    }
   ],
   "source": [
    "import numpy as np \n",
    "arr = np.array((0, 0, 0, 0, 1, 5, 7, 0, 6, 2, 9, 0, 10, 0, 0))\n",
    "res = np.trim_zeros(arr, 'f')\n",
    "print('array is:', res)"
   ]
  },
  {
   "cell_type": "code",
   "execution_count": 40,
   "id": "4b0507df",
   "metadata": {},
   "outputs": [
    {
     "name": "stdout",
     "output_type": "stream",
     "text": [
      "array is: [ 0  0  0  0  1  5  7  0  6  2  9  0 10]\n"
     ]
    }
   ],
   "source": [
    "import numpy as np \n",
    "arr = np.array((0, 0, 0, 0, 1, 5, 7, 0, 6, 2, 9, 0, 10, 0, 0))\n",
    "res = np.trim_zeros(arr, 'b')\n",
    "print('array is:', res)"
   ]
  }
 ],
 "metadata": {
  "kernelspec": {
   "display_name": "Python 3 (ipykernel)",
   "language": "python",
   "name": "python3"
  },
  "language_info": {
   "codemirror_mode": {
    "name": "ipython",
    "version": 3
   },
   "file_extension": ".py",
   "mimetype": "text/x-python",
   "name": "python",
   "nbconvert_exporter": "python",
   "pygments_lexer": "ipython3",
   "version": "3.9.12"
  }
 },
 "nbformat": 4,
 "nbformat_minor": 5
}
